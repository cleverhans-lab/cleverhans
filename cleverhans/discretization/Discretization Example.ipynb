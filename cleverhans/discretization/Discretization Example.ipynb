{
  "nbformat": 4,
  "nbformat_minor": 0,
  "metadata": {
    "colab": {
      "name": "Discretization Example.ipynb",
      "version": "0.3.2",
      "views": {},
      "default_view": {},
      "provenance": [],
      "collapsed_sections": [],
      "last_runtime": {
        "build_target": "//learning/brain/python/client:colab_notebook",
        "kind": "private"
      }
    }
  },
  "cells": [
    {
      "metadata": {
        "id": "VxUhCemLuJjQ",
        "colab_type": "text"
      },
      "source": [
        "# Discretization Example"
      ],
      "cell_type": "markdown"
    },
    {
      "metadata": {
        "id": "9kNE3OEruSP_",
        "colab_type": "text"
      },
      "source": [
        "## Imports and definitions"
      ],
      "cell_type": "markdown"
    },
    {
      "metadata": {
        "id": "_dYfLtUqtjDX",
        "colab_type": "code",
        "colab": {
          "autoexec": {
            "startup": false,
            "wait_interval": 0
          }
        }
      },
      "source": [
        "import tensorflow as tf\n",
        "import numpy as np\n",
        "\n",
        "from attacks import adv_lspga\n",
        "from discretization_utils import discretize_uniform"
      ],
      "cell_type": "code",
      "execution_count": 0,
      "outputs": []
    },
    {
      "metadata": {
        "id": "MNg8-R2TvMTB",
        "colab_type": "text"
      },
      "source": [
        "## Model definition"
      ],
      "cell_type": "markdown"
    },
    {
      "metadata": {
        "id": "apbEDgEVuRtF",
        "colab_type": "code",
        "colab": {
          "autoexec": {
            "startup": false,
            "wait_interval": 0
          }
        }
      },
      "source": [
        "def model(x, is_training=True):\n",
        "      with tf.variable_scope('SmallModel', reuse=tf.AUTO_REUSE):\n",
        "        # conv layer 1\n",
        "        conv1 = tf.layers.conv2d(\n",
        "            inputs=x,\n",
        "            filters=16,\n",
        "            kernel_size=[8, 8],\n",
        "            strides=(2, 2),\n",
        "            padding='same',\n",
        "            activation=tf.nn.relu,\n",
        "            name='conv1')\n",
        "\n",
        "        flat = tf.contrib.layers.flatten(conv1)\n",
        "        dense = tf.layers.dense(inputs=flat, units=32, name='dense')\n",
        "        dropout = tf.layers.dropout(inputs=dense, rate=.2, training=is_training)\n",
        "        logits = tf.layers.dense(inputs=dropout, units=10, name='logits')\n",
        "        return logits"
      ],
      "cell_type": "code",
      "execution_count": 0,
      "outputs": []
    },
    {
      "metadata": {
        "id": "fntbThUxvhoS",
        "colab_type": "text"
      },
      "source": [
        "## Adversarial training with discrete attack"
      ],
      "cell_type": "markdown"
    },
    {
      "metadata": {
        "id": "eLIrfQ5NvpDQ",
        "colab_type": "code",
        "colab": {
          "autoexec": {
            "startup": false,
            "wait_interval": 0
          }
        }
      },
      "source": [
        "# Get batch of data from data pipeline\n",
        "features, labels = get_data()\n",
        "\n",
        "# features is of shape [batch_size, height, width, channels]\n",
        "# labels is of shape [batch_size, classes]\n",
        "\n",
        "levels = 8\n",
        "features_disc = discretize_uniform(features, levels=levels, thermometer=True) \n",
        "\n",
        "# features_disc is of shape [batch_size, height, width, channels * levels]\n",
        "\n",
        "# Set projection_fn to identity\n",
        "projection_fn = tf.identity\n",
        "\n",
        "# Set phase of the model, i.e. whether training or testing\n",
        "phase = tf.placeholder(tf.bool, name='phase')\n",
        "\n",
        "# Set attack parameters\n",
        "steps = 10\n",
        "eps = 0.3\n",
        "attack_step = 0.1\n",
        "\n",
        "# Get attacked images\n",
        "features_disc_adv = adv_lspga(features_disc, model, discretize_uniform, \n",
        "                              projection_fn, levels, phase, steps, eps, \n",
        "                              attack_step)\n",
        "\n",
        "# Get model prediction on adversarial features\n",
        "logits_adv = model(features_adv, is_training=phase)\n",
        "\n",
        "# Define the loss for adversarial training\n",
        "adv_loss = tf.losses.softmax_cross_entropy(\n",
        "    onehot_labels=labels,\n",
        "    logits=logits_adv)\n",
        "\n",
        "# Define the train op\n",
        "tf.train.AdamOptimizer(\n",
        "    learning_rate=1e-3).minimize(adv_loss)"
      ],
      "cell_type": "code",
      "execution_count": 0,
      "outputs": []
    }
  ]
}